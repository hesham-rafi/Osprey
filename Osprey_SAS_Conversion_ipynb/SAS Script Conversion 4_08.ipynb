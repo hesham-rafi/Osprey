{
 "cells": [
  {
   "cell_type": "code",
   "execution_count": 2,
   "metadata": {
    "collapsed": false
   },
   "outputs": [],
   "source": [
    "import re\n",
    "import pandas as pd\n",
    "import numpy as np\n",
    "import string\n",
    "import datetime\n",
    "from pyspark.sql.functions import *\n",
    "from pyspark.sql.types import *\n",
    "\n",
    "#agntpf_path = '/group/axa_malaysia/data/adm_agntpf'\n",
    "#zyampf_path = '/group/axa_malaysia/data/adm_zyampf'\n",
    "#transv_clients_path = 'data/sas_407/transv_clients.parquet'\n",
    "\n",
    "def format_date(strdate):\n",
    "    try: \n",
    "        return datetime.strptime(str(strdate),'%Y%m%d').strftime('%Y-%m-%d')\n",
    "    except: \n",
    "        return '2999-12-31'\n",
    "_format_date = udf(format_date,StringType())\n",
    "\n",
    "\n",
    "def agents(agntpf_path, zyampf_path, transv_clients_path, output_folder='data/sas_408/'):\n",
    "    \n",
    "    #read in the data\n",
    "    agntpf = spark.read.parquet(agntpf_path)\n",
    "    zyampf = spark.read.parquet(zyampf_path)\n",
    "    transv_clients = spark.read.parquet(transv_clients_path)\n",
    "\n",
    "    #perform cleaning/transformation to the various columns' values on the agntpf\n",
    "    agent = agntpf[['AGNTNUM','CLNTNUM','AGNTBR','VALIDFLAG','START_DATE','DATEEND']]\\\n",
    "    .filter(col('VALIDFLAG')==1)\\\n",
    "    .withColumn('d_start', to_date(_format_date(col('START_DATE'))))\\\n",
    "    .withColumn('d_end', to_date(_format_date(col('DATEEND'))))\\\n",
    "    .withColumnRenamed('AGNTNUM','agentid')\\\n",
    "    .drop('VALIDFLAG','START_DATE','DATEEND')\n",
    "\n",
    "    #join the agent table with clients table\n",
    "    agent1 = agent.join(transv_clients, 'clntnum', 'left')\\\n",
    "    .select([agent[c] for c in agent.columns]+[transv_clients['client']])\\\n",
    "    .withColumnRenamed('client','agent_name')\\\n",
    "    .drop('clntnum')\n",
    "\n",
    "    zyampf = zyampf.withColumnRenamed('agntnum','agentid')\n",
    "    \n",
    "    #join with zyampf (agents extra table)\n",
    "    agent2 = agent1.join(zyampf, 'agentid', 'left')\\\n",
    "    .select([agent1[c] for c in agent1.columns]+[zyampf['STCDA']])\\\n",
    "    .withColumnRenamed('STCDA','SOURCE_CODE')\\\n",
    "    .withColumn('SOURCE_CODE',upper(col('SOURCE_CODE')))\n",
    "\n",
    "    #read in the mapping table and join\n",
    "    act_source_code = spark.createDataFrame(pd.read_excel('ADM Mapping.xlsm', sheetname = '400'))\n",
    "    agent3 = agent2.join(act_source_code,'SOURCE_CODE','left')\n",
    "\n",
    "    #map the distribution channels with the appropriate names\n",
    "    transv_agents = agent3\\\n",
    "    .withColumn('CHANNEL',when(\n",
    "            col('CHANNEL_GROUP').isin(['General Agents','Local Broker','TISCO','Direct Others','FLD','Other Agents']),\n",
    "                (when(col('agntbr')==10, concat(trim(col('CHANNEL_GROUP')), lit(' (BKK)')))\n",
    "                             .otherwise(concat(trim(col('CHANNEL_GROUP')), lit(' (UPC)')))))\n",
    "           .otherwise(trim(col('CHANNEL_GROUP'))))\\\n",
    "    .withColumn('CHANNEL',when( col('agentid').isin(['BD039','VQ226']), lit('Digital')).otherwise(col('CHANNEL')))\\\n",
    "    .withColumnRenamed('AGNTBR','AGENT_BRANCH')\\\n",
    "    .orderBy('agentid')\n",
    "\n",
    "    #write out the data\n",
    "    transv_agents.write.parquet('{}transv_agents_test554.parquet'.format(output_folder))"
   ]
  },
  {
   "cell_type": "code",
   "execution_count": 3,
   "metadata": {
    "collapsed": false
   },
   "outputs": [],
   "source": [
    "agntpf_path = '/group/axa_malaysia/data/adm_agntpf'\n",
    "zyampf_path = '/group/axa_malaysia/data/adm_zyampf'\n",
    "transv_clients_path = 'data/sas_407/transv_clients.parquet'\n",
    "agents(agntpf_path, zyampf_path, transv_clients_path)"
   ]
  },
  {
   "cell_type": "code",
   "execution_count": 4,
   "metadata": {
    "collapsed": true
   },
   "outputs": [],
   "source": [
    "agents = spark.read.parquet('data/sas_408/transv_agents_test554.parquet')"
   ]
  },
  {
   "cell_type": "code",
   "execution_count": 10,
   "metadata": {
    "collapsed": false
   },
   "outputs": [],
   "source": [
    "agents.write.saveAsTable('axa_malaysia.agents555', format='csv')"
   ]
  },
  {
   "cell_type": "code",
   "execution_count": 9,
   "metadata": {
    "collapsed": false
   },
   "outputs": [
    {
     "name": "stdout",
     "output_type": "stream",
     "text": [
      "+-----------+-------+------------+----------+----------+--------------------+----------------+-------------+-----------+-------+\n",
      "|SOURCE_CODE|agentid|AGENT_BRANCH|   d_start|     d_end|          agent_name|SOURCE_CODE_NAME|CHANNEL_GROUP|CHANNEL_QBR|CHANNEL|\n",
      "+-----------+-------+------------+----------+----------+--------------------+----------------+-------------+-----------+-------+\n",
      "|         02|  22463|          63|2999-12-31|2999-12-31|    MS  LEE PEI YUAN|            null|         null|       null|   null|\n",
      "|         02|  22464|          61|2999-12-31|2999-12-31|  WEEZ RISK MANAG...|            null|         null|       null|   null|\n",
      "|         02|  22465|          37|2999-12-31|2999-12-31|    MR  OH KOK LEONG|            null|         null|       null|   null|\n",
      "|         02|  22466|          61|2999-12-31|2999-12-31|  ALADO AUTOMOBIL...|            null|         null|       null|   null|\n",
      "|         01|  22467|          97|2999-12-31|2999-12-31|        DIRECT-STAFF|            null|         null|       null|   null|\n",
      "|         59|  22468|          65|2999-12-31|2999-12-31|  BANK OF CHINA (...|            null|         null|       null|   null|\n",
      "|         02|  22469|          14|2999-12-31|2999-12-31|MDM  USHA DAVY A/...|            null|         null|       null|   null|\n",
      "|         02|  22470|          16|2999-12-31|2999-12-31|   MDM  FOO CHON FAH|            null|         null|       null|   null|\n",
      "|         02|  22471|          98|2999-12-31|2999-12-31|  FULBRIGHT MANAG...|            null|         null|       null|   null|\n",
      "|         02|  22472|          63|2999-12-31|2999-12-31|         HO KEE FATT|            null|         null|       null|   null|\n",
      "|         02|  22473|          12|2999-12-31|2999-12-31|  HONG YE MANAGEM...|            null|         null|       null|   null|\n",
      "|         02|  22474|          12|2999-12-31|2999-12-31| MR  FOONG CHEE PENG|            null|         null|       null|   null|\n",
      "|         AO|  22475|          68|2999-12-31|2999-12-31|ENCIK  ALLIANZ GE...|            null|         null|       null|   null|\n",
      "|         01|  22476|          67|2999-12-31|2999-12-31|  PROVISIONAL PRE...|            null|         null|       null|   null|\n",
      "|         B9|  22477|          35|2999-12-31|2999-12-31|MR  RHB INSURANCE...|            null|         null|       null|   null|\n",
      "|         02|  22478|          88|2999-12-31|2999-12-31|  ASCENDUR BISTAR...|            null|         null|       null|   null|\n",
      "|         02|  22479|          12|2999-12-31|2999-12-31|  CARE PLANNER AG...|            null|         null|       null|   null|\n",
      "|         02|  22480|          15|2999-12-31|2999-12-31|       GAN SEONG PEI|            null|         null|       null|   null|\n",
      "|         02|  22481|          97|2999-12-31|2999-12-31|  SUCCESS RISK MA...|            null|         null|       null|   null|\n",
      "|         01|  22482|          88|2999-12-31|2999-12-31|    DIRECT-CORPORATE|            null|         null|       null|   null|\n",
      "+-----------+-------+------------+----------+----------+--------------------+----------------+-------------+-----------+-------+\n",
      "only showing top 20 rows\n",
      "\n"
     ]
    }
   ],
   "source": [
    "agents.show()"
   ]
  },
  {
   "cell_type": "code",
   "execution_count": null,
   "metadata": {
    "collapsed": true
   },
   "outputs": [],
   "source": []
  }
 ],
 "metadata": {
  "kernelspec": {
   "display_name": "PySpark 2.0.0 - YARN [anaconda3-4.1.1]",
   "language": "",
   "name": "pyspark2_yarn_anaconda3"
  },
  "language_info": {
   "codemirror_mode": {
    "name": "ipython",
    "version": 3
   },
   "file_extension": ".py",
   "mimetype": "text/x-python",
   "name": "python",
   "nbconvert_exporter": "python",
   "pygments_lexer": "ipython3",
   "version": "3.5.2"
  }
 },
 "nbformat": 4,
 "nbformat_minor": 0
}
