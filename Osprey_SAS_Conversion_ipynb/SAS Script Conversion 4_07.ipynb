{
 "cells": [
  {
   "cell_type": "code",
   "execution_count": 3,
   "metadata": {
    "collapsed": false
   },
   "outputs": [],
   "source": [
    "from pyspark.sql.types import * \n",
    "import datetime\n",
    "from pyspark.sql.functions import *\n",
    "import re\n",
    "import pandas as pd\n",
    "import numpy as np\n",
    "import string\n",
    "import datetime\n",
    "\n",
    "#clntpf_path = '/group/axa_malaysia/data/adm_clntpf'\n",
    "#clexpf_path = '/group/axa_malaysia/data/adm_clexpf'\n",
    "\n",
    "def format_date(strdate):\n",
    "    try: \n",
    "        return datetime.strptime(str(strdate),'%Y%m%d').strftime('%Y-%m-%d')\n",
    "    except: \n",
    "        return '2999-12-31'\n",
    "_format_date = udf(format_date,StringType())\n",
    "\n",
    "def compressblankspace(s):\n",
    "    k = \" \".join([i for i in s.split(\" \") if i])\n",
    "    return k\n",
    "_compressblankspace_udf = udf(compressblankspace)\n",
    "\n",
    "def customers(clntpf_path, clexpf_path, output_folder='data/sas_407'):\n",
    "    #read in the data\n",
    "    clntpf = spark.read.parquet(clntpf_path)\n",
    "    clexpf = spark.read.parquet(clexpf_path)\n",
    "    \n",
    "    #perform cleaning/transformation to the various columns' values on the clntpf\n",
    "    clients = clntpf[['clntnum','clttype','secuityno','cltsex','cltaddr01','cltaddr02',\n",
    "            'cltaddr03','cltaddr04','cltaddr05','cltpcode','cltphone01','cltphone02',\n",
    "            'statcode','cltdob','marryd','salutl','natlty','ctrycode','givname','surname']]\\\n",
    "    .filter(col('clntnum')!='')\\\n",
    "    .withColumn('D_birth',when(((col('cltdob')/10000 >= 1900) & (col('cltdob')/10000 <= 2100)), to_date(_format_date(col('cltdob')))))\\\n",
    "    .withColumn('D_birth',_replace_null_dates(col('D_birth')))\\\n",
    "    .withColumn('age', datetime.datetime.today().year - year(col('D_birth')))\\\n",
    "    .withColumn('age', when(col('age')<0, lit(0)))\\\n",
    "    .withColumn('first_name',upper(ltrim(rtrim(_compressblankspace_udf(col('givname'))))))\\\n",
    "    .withColumn('last_name',upper(ltrim(rtrim(_compressblankspace_udf(col('surname'))))))\\\n",
    "    .withColumn('CLIENT',concat(col('salutl'),lit(\" \"),col('first_name'),lit(\" \"),col('last_name')))\\\n",
    "    .withColumn('ADDRESS',concat(col('cltaddr01'),lit(\" \"),col('cltaddr02'),lit(\" \"),\n",
    "                                 col('cltaddr03'),lit(\" \"),col('cltaddr04'),lit(\" \"),col('cltaddr05')))\\\n",
    "    .withColumn('POSTALCODE',translate('cltpcode',' ',''))\\\n",
    "    .withColumn('POSTALCODE',when(regexp_extract('POSTALCODE','^\\d{5}$',0)!='',col('POSTALCODE')).otherwise(lit('NA')))\\\n",
    "    .withColumn('ID',translate('secuityno',string.whitespace+string.punctuation,''))\\\n",
    "    .withColumn('ID',when(length('ID')<=6,lit('NA')).otherwise(col('ID')))\\\n",
    "    .withColumn('gender',when(col('cltsex')=='M',lit('MALE')).when(col('cltsex')=='F',lit('FEMALE')).otherwise(lit('UNKNOWN')))\\\n",
    "    .withColumn('ADDRESS2',lit(None))\\\n",
    "    .withColumnRenamed('marryd','marital_status')\\\n",
    "    .withColumnRenamed('natlty','nationality')\\\n",
    "    .withColumnRenamed('clttype','client_type')\\\n",
    "    .withColumnRenamed('ctrycode','country')\\\n",
    "    .withColumnRenamed('ADDRESS2','ADDRESS_GROUP')\\\n",
    "    .withColumn('cltsex',when(isnull(col('cltsex')),lit('N')).otherwise(col('cltsex')))\\\n",
    "    .withColumn('cltphone01',when(isnull(col('cltphone01')),lit('NA')).otherwise(col('cltphone01')))\\\n",
    "    .withColumn('cltphone02',when(isnull(col('cltphone02')),lit('NA')).otherwise(col('cltphone02')))\\\n",
    "    .withColumn('statcode',when(isnull(col('statcode')),lit('NA')).otherwise(col('statcode')))\\\n",
    "    .withColumn('ADDRESS_GROUP',when(isnull(col('ADDRESS_GROUP')),lit('NA')).otherwise(col('ADDRESS_GROUP')))\\\n",
    "    .drop('salutl','surname','givname','cltaddr01','cltaddr02','cltaddr03','cltaddr04','cltaddr05','cltpcode','secuityno','cltdob')\\\n",
    "    .orderBy('clntnum').dropDuplicates(['clntnum'])\n",
    "\n",
    "    #perform cleaning/transformation to the various columns' values on the clexpf\n",
    "    clientsextra = clexpf[['clntnum','rmblphone','rinternet']]\\\n",
    "    .withColumn('rinternet',when(locate('@',col('rinternet'),1)>0,col('rinternet')).otherwise(lit('NA')))\\\n",
    "    .withColumn('rmblphone',translate('rmblphone',string.whitespace+\".()-_@+DFM\",''))\\\n",
    "    .withColumn('rmblphone',when(col('rmblphone')=='',lit('NA')).otherwise(col('rmblphone')))\\\n",
    "    .withColumnRenamed('rmblphone','mobile')\\\n",
    "    .withColumnRenamed('rinternet','email')\\\n",
    "    .orderBy('clntnum').dropDuplicates(['clntnum'])\n",
    "\n",
    "    #merging of the client and clientextra tables \n",
    "    transv_clients = clients.join(clientsextra, on ='clntnum', how ='left')\\\n",
    "    .withColumn('email',when(isnull(trim(col('email'))),lit('NA')).otherwise(col('email')))\\\n",
    "    .withColumn('mobile',when(isnull(trim(col('mobile'))),lit('NA')).otherwise(col('mobile')))\\\n",
    "    .withColumn('address',when(isnull(trim(col('address'))),lit('NA')).otherwise(col('address')))\n",
    "\n",
    "    #write the parquet out\n",
    "    transv_clients.write.parquet('{}transv_clients.parquet'.format(output_folder))"
   ]
  },
  {
   "cell_type": "code",
   "execution_count": 4,
   "metadata": {
    "collapsed": false
   },
   "outputs": [],
   "source": [
    "clntpf_path = '/group/axa_malaysia/data/adm_clntpf'\n",
    "clexpf_path = '/group/axa_malaysia/data/adm_clexpf'\n",
    "customers(clntpf_path,clexpf_path)"
   ]
  },
  {
   "cell_type": "code",
   "execution_count": null,
   "metadata": {
    "collapsed": true
   },
   "outputs": [],
   "source": []
  }
 ],
 "metadata": {
  "kernelspec": {
   "display_name": "PySpark 2.0.0 - YARN [anaconda3-4.1.1]",
   "language": "",
   "name": "pyspark2_yarn_anaconda3"
  },
  "language_info": {
   "codemirror_mode": {
    "name": "ipython",
    "version": 3
   },
   "file_extension": ".py",
   "mimetype": "text/x-python",
   "name": "python",
   "nbconvert_exporter": "python",
   "pygments_lexer": "ipython3",
   "version": "3.5.2"
  }
 },
 "nbformat": 4,
 "nbformat_minor": 0
}
