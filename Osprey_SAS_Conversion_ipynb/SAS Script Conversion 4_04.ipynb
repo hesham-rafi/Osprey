{
 "cells": [
  {
   "cell_type": "code",
   "execution_count": 2,
   "metadata": {
    "collapsed": true
   },
   "outputs": [],
   "source": [
    "from pyspark.sql.types import *\n",
    "from pyspark.sql.functions import *\n",
    "from pyspark.sql import Window\n",
    "\n",
    "#transv_pr_gr_psea_path = 'data/sas_402/transv_pr_gr_psea.parquet'\n",
    "#transv_polhistory_psea_path = 'data/sas_401/transv_polhistory_psea.parquet'\n",
    "#riskpf_path = '/group/axa_malaysia/data/adm_riskpf'\n",
    "#acc_yrm = 201707\n",
    "\n",
    "def pillar1(transv_pr_gr_psea_path, transv_polhistory_psea_path, riskpf_path, acc_yrm, output_folder='data/sas_404'):\n",
    "    \n",
    "    transv_pr_gr_psea = spark.read.parquet(transv_pr_gr_psea_path)\n",
    "    transv_polhistory_psea = spark.read.parquet(transv_polhistory_psea_path)\n",
    "    riskpf = spark.read.parquet(riskpf_path)\n",
    "\n",
    "    # Summarize GWP records from PR_GR_PSEA\n",
    "    premium = transv_pr_gr_psea\\\n",
    "    .filter((col('yrm') <= acc_yrm) & ((col('gwp') !=0) | (col('cwp') !=0)))\\\n",
    "    .groupBy('chdrnum','tranno','rskno','yrm','agentid','batcbrn','trantype')\\\n",
    "    .sum('gwp','cwp').withColumnRenamed('sum(gwp)','gwp').withColumnRenamed('sum(cwp)','cwp')\n",
    "\n",
    "    # Merge Premium Summary with Pol history, by Tranno - This is to get the Zrenno\n",
    "    polhist = transv_polhistory_psea[['chdrnum','tranno','zrenno']]\n",
    "    polhist.cache()\n",
    "\n",
    "    # There are two agentIDs in premium 2 - merge on them so as to kill\n",
    "    premium2 = premium.join(polhist,on=['chdrnum','tranno'],how='left')\\\n",
    "    .withColumn('all_gwp_nb',when(col('zrenno')==0,(col('gwp')-col('cwp'))).otherwise(lit(0)))\\\n",
    "    .withColumn('all_gwp_re',when(col('zrenno')>0,(col('gwp')-col('cwp'))).otherwise(lit(0)))\\\n",
    "    .withColumn('nbrisk_nb',when(((col('trantype').isin('NB','RN')) & (col('zrenno')==0)),lit(1)).otherwise(lit(0)))\\\n",
    "    .withColumn('nbrisk_re',when(((col('trantype').isin('NB','RN')) & (col('zrenno')>0)),lit(1)).otherwise(lit(0)))\n",
    "\n",
    "    premium3 = premium2.groupBy('chdrnum','tranno','rskno','zrenno','yrm','agentid','batcbrn')\\\n",
    "    .sum('all_gwp_nb','nbrisk_nb','all_gwp_re','nbrisk_re')\\\n",
    "    .withColumnRenamed('sum(all_gwp_nb)','all_gwp_nb').withColumnRenamed('sum(all_gwp_re)','all_gwp_re')\\\n",
    "    .withColumnRenamed('sum(nbrisk_nb)','nbrisk_nb').withColumnRenamed('sum(nbrisk_re)','nbrisk_re')\n",
    "    premium3.cache()\n",
    "\n",
    "    # Merge by Tranno with Riskpf, and output the errors if mismatch (Cancellations & Reinstatements)\n",
    "    riskpf = riskpf[['chdrno','tranno','rskno','datime','recformat']]\\\n",
    "    .orderBy('chdrno','tranno','rskno','datime',ascending = [1,1,1,0]).drop('datime')\\\n",
    "    .dropDuplicates(['chdrno','tranno','rskno'])\\\n",
    "    .withColumnRenamed('chdrno','chdrnum')\n",
    "\n",
    "    # Have to define udf to handle dynamic substring function\n",
    "    _substring_udf = udf(lambda x: x[0:len(x)-3])\n",
    "\n",
    "    riskpf2 = riskpf.join(polhist,on=['chdrnum','tranno'],how='inner')\\\n",
    "    .withColumn('rsktabl', _substring_udf(col('recformat')))\\\n",
    "    .drop('recformat')\n",
    "    riskpf2.cache()\n",
    "\n",
    "    # There are two zrennos in error and p1 - unsure which one to take? Set the merge as requiring both of them.\n",
    "    p1 = premium3.join(riskpf2, on= ['chdrnum','tranno','rskno','zrenno'], how='inner')\n",
    "    error = premium3.join(riskpf2.withColumn('InB',lit(1)), on= ['chdrnum','tranno','rskno','zrenno'],how='left')\\\n",
    "    .filter(isnull(col('InB'))).drop('InB','rsktabl')\n",
    "\n",
    "    # Amend the errors, by attributing the latest tranno in the same POI, just before the missing tranno\n",
    "    riskpf3 = riskpf2.withColumnRenamed('tranno','tranno_risk')\n",
    "\n",
    "    cond = [error['chdrnum']==riskpf3['chdrnum'],\n",
    "            error['rskno']==riskpf3['rskno'],\n",
    "            error['zrenno']==riskpf3['zrenno'],\n",
    "            error['tranno']>=riskpf3['tranno_risk']]\n",
    "\n",
    "    # agentid is in both dataframes - set the merge as requiring both of them to be equal as well.\n",
    "    error2 = error.join(riskpf3, cond, how='left')\\\n",
    "    .select([error[xx] for xx in error.columns] + [riskpf3['tranno_risk'],riskpf3['rsktabl']])\\\n",
    "    .sort('chdrnum','rskno','tranno','tranno_risk',ascending=[1,1,1,0]).dropDuplicates(['chdrnum','rskno','tranno'])\n",
    "\n",
    "    # Perform the InA then tranno_risk = tranno by adding a column to p1 first.\n",
    "    p1 = p1.withColumn('tranno_risk',col('tranno'))\n",
    "    transv_p1 = p1.unionAll(error2.select(p1.columns)).sort('chdrnum','rskno','tranno')\n",
    "\n",
    "    transv_p1.write.parquet('{}/transv_p1.parquet'.format(output_folder))"
   ]
  },
  {
   "cell_type": "code",
   "execution_count": 3,
   "metadata": {
    "collapsed": true
   },
   "outputs": [],
   "source": [
    "transv_pr_gr_psea_path = 'data/sas_402/transv_pr_gr_psea.parquet'\n",
    "transv_polhistory_psea_path = 'data/sas_401/transv_polhistory_psea.parquet'\n",
    "riskpf_path = '/group/axa_malaysia/data/adm_riskpf'\n",
    "acc_yrm = 201707\n",
    "pillar1(transv_pr_gr_psea_path,transv_polhistory_psea_path,riskpf_path,acc_yrm)"
   ]
  },
  {
   "cell_type": "code",
   "execution_count": 3,
   "metadata": {
    "collapsed": false
   },
   "outputs": [
    {
     "data": {
      "text/plain": [
       "15055393"
      ]
     },
     "execution_count": 3,
     "metadata": {},
     "output_type": "execute_result"
    }
   ],
   "source": [
    "spark.read.parquet('data/sas_404/transv_p1.parquet').count()"
   ]
  },
  {
   "cell_type": "code",
   "execution_count": null,
   "metadata": {
    "collapsed": true
   },
   "outputs": [],
   "source": []
  }
 ],
 "metadata": {
  "kernelspec": {
   "display_name": "PySpark 2.1.1 - YARN [anaconda3-4.1.1]",
   "language": "",
   "name": "pyspark2_yarn_anaconda3"
  },
  "language_info": {
   "codemirror_mode": {
    "name": "ipython",
    "version": 3
   },
   "file_extension": ".py",
   "mimetype": "text/x-python",
   "name": "python",
   "nbconvert_exporter": "python",
   "pygments_lexer": "ipython3",
   "version": "3.5.2"
  }
 },
 "nbformat": 4,
 "nbformat_minor": 0
}
